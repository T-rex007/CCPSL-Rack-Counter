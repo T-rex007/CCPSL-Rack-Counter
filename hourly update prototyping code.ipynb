{
 "cells": [
  {
   "cell_type": "code",
   "execution_count": 29,
   "metadata": {},
   "outputs": [],
   "source": [
    "import time\n",
    "import datetime\n",
    "import pandas as pd"
   ]
  },
  {
   "cell_type": "markdown",
   "metadata": {},
   "source": [
    "hour_index_check = time.localtime(time.time()).tm_min\n",
    "while (1):\n",
    "    if(time.localtime(time.time()).tm_min != hour_index_check ):\n",
    "        hour_index_check = hour_index_check +1 \n",
    "        print(hour_index_check)\n"
   ]
  },
  {
   "cell_type": "code",
   "execution_count": 30,
   "metadata": {},
   "outputs": [],
   "source": [
    "date = datetime.datetime.now().strftime(\"%y_%m_%d_%H\")\n"
   ]
  },
  {
   "cell_type": "code",
   "execution_count": 31,
   "metadata": {},
   "outputs": [
    {
     "data": {
      "text/plain": [
       "'20_08_20_18'"
      ]
     },
     "execution_count": 31,
     "metadata": {},
     "output_type": "execute_result"
    }
   ],
   "source": [
    "date"
   ]
  },
  {
   "cell_type": "code",
   "execution_count": 32,
   "metadata": {},
   "outputs": [],
   "source": []
  },
  {
   "cell_type": "code",
   "execution_count": 42,
   "metadata": {},
   "outputs": [],
   "source": [
    "def hourlyLogInit():\n",
    "    outh = {\"Date time\":[],\n",
    "            \"Hourly Palette Count\": [], \n",
    "            \"Hourly Rack Count\": []\n",
    "           }\n",
    "    df = pd.DataFrame(outh)\n",
    "    date1 = datetime.datetime.now().strftime(\"%y_%m_%d\")\n",
    "    df.to_csv(\"logs/\"+date1+\"_hourly_count.csv\", index = False)"
   ]
  },
  {
   "cell_type": "code",
   "execution_count": 43,
   "metadata": {},
   "outputs": [],
   "source": [
    "hourlyLogInit()"
   ]
  },
  {
   "cell_type": "code",
   "execution_count": 45,
   "metadata": {},
   "outputs": [],
   "source": [
    "def updateHourlyHistory(report):\n",
    "    \"\"\"\n",
    "    Args:\n",
    "        Report: Dictionary with the pre-specified format of count_log.csv\n",
    "            (Same header names) \n",
    "    \"\"\"\n",
    "    date1 = datetime.datetime.now().strftime(\"%y_%m_%d\")\n",
    "    df_new = pd.DataFrame(report)\n",
    "    df1 = pd.read_csv(\"logs/\"+date1+\"_hourly_count.csv\",index_col =  False)\n",
    "    df = df1.append(df_new, ignore_index = True\n",
    "          )\n",
    "    df.to_csv(\"logs/\"+date1+\"_hourly_count.csv\", index = False)"
   ]
  },
  {
   "cell_type": "code",
   "execution_count": 46,
   "metadata": {},
   "outputs": [],
   "source": [
    "outh = {\"Date time\":[12],\n",
    "        \"Hourly Palette Count\": [32], \n",
    "        \"Hourly Rack Count\": [234]\n",
    "       }"
   ]
  },
  {
   "cell_type": "code",
   "execution_count": 47,
   "metadata": {},
   "outputs": [],
   "source": [
    "updateHourlyHistory(outh)"
   ]
  },
  {
   "cell_type": "code",
   "execution_count": null,
   "metadata": {},
   "outputs": [],
   "source": []
  }
 ],
 "metadata": {
  "kernelspec": {
   "display_name": "local-venv",
   "language": "python",
   "name": "local-venv"
  },
  "language_info": {
   "codemirror_mode": {
    "name": "ipython",
    "version": 3
   },
   "file_extension": ".py",
   "mimetype": "text/x-python",
   "name": "python",
   "nbconvert_exporter": "python",
   "pygments_lexer": "ipython3",
   "version": "3.8.2"
  }
 },
 "nbformat": 4,
 "nbformat_minor": 4
}
