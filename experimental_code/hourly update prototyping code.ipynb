{
 "cells": [
  {
   "cell_type": "code",
   "execution_count": 29,
   "metadata": {},
   "outputs": [],
   "source": [
    "import time\n",
    "import datetime\n",
    "import pandas as pd"
   ]
  },
  {
   "cell_type": "markdown",
   "metadata": {},
   "source": [
    "hour_index_check = time.localtime(time.time()).tm_min\n",
    "while (1):\n",
    "    if(time.localtime(time.time()).tm_min != hour_index_check ):\n",
    "        hour_index_check = hour_index_check +1 \n",
    "        print(hour_index_check)\n"
   ]
  },
  {
   "cell_type": "code",
   "execution_count": 30,
   "metadata": {},
   "outputs": [],
   "source": [
    "date = datetime.datetime.now().strftime(\"%y-%m-%d-%H\")\n"
   ]
  },
  {
   "cell_type": "code",
   "execution_count": 31,
   "metadata": {},
   "outputs": [
    {
     "data": {
      "text/plain": [
       "'20_08_20_18'"
      ]
     },
     "execution_count": 31,
     "metadata": {},
     "output_type": "execute_result"
    }
   ],
   "source": [
    "date"
   ]
  },
  {
   "cell_type": "code",
   "execution_count": 32,
   "metadata": {},
   "outputs": [],
   "source": []
  },
  {
   "cell_type": "code",
   "execution_count": 42,
   "metadata": {},
   "outputs": [],
   "source": [
    "def hourlyLogInit():\n",
    "    outh = {\"Date time\":[],\n",
    "            \"Hourly Palette Count\": [], \n",
    "            \"Hourly Rack Count\": []\n",
    "           }\n",
    "    df = pd.DataFrame(outh)\n",
    "    date1 = datetime.datetime.now().strftime(\"%y_%m_%d\")\n",
    "    df.to_csv(\"logs/\"+date1+\"_hourly_count.csv\", index = False)"
   ]
  },
  {
   "cell_type": "code",
   "execution_count": 43,
   "metadata": {},
   "outputs": [],
   "source": [
    "hourlyLogInit()"
   ]
  },
  {
   "cell_type": "code",
   "execution_count": 45,
   "metadata": {},
   "outputs": [],
   "source": [
    "def updateHourlyHistory(report):\n",
    "    \"\"\"\n",
    "    Args:\n",
    "        Report: Dictionary with the pre-specified format of count_log.csv\n",
    "            (Same header names) \n",
    "    \"\"\"\n",
    "    date1 = datetime.datetime.now().strftime(\"%y_%m_%d\")\n",
    "    df_new = pd.DataFrame(report)\n",
    "    df1 = pd.read_csv(\"logs/\"+date1+\"_hourly_count.csv\",index_col =  False)\n",
    "    df = df1.append(df_new, ignore_index = True\n",
    "          )\n",
    "    df.to_csv(\"logs/\"+date1+\"_hourly_count.csv\", index = False)"
   ]
  },
  {
   "cell_type": "code",
   "execution_count": 46,
   "metadata": {},
   "outputs": [],
   "source": [
    "outh = {\"Date time\":[12],\n",
    "        \"Hourly Palette Count\": [32], \n",
    "        \"Hourly Rack Count\": [234]\n",
    "       }"
   ]
  },
  {
   "cell_type": "code",
   "execution_count": 47,
   "metadata": {},
   "outputs": [],
   "source": [
    "updateHourlyHistory(outh)"
   ]
  },
  {
   "cell_type": "code",
   "execution_count": 2,
   "metadata": {},
   "outputs": [],
   "source": [
    "import datetime"
   ]
  },
  {
   "cell_type": "code",
   "execution_count": 3,
   "metadata": {},
   "outputs": [],
   "source": [
    "date =datetime.datetime.now()"
   ]
  },
  {
   "cell_type": "code",
   "execution_count": 4,
   "metadata": {},
   "outputs": [
    {
     "data": {
      "text/plain": [
       "datetime.datetime(2020, 8, 24, 17, 43, 48, 523614)"
      ]
     },
     "execution_count": 4,
     "metadata": {},
     "output_type": "execute_result"
    }
   ],
   "source": [
    "date"
   ]
  },
  {
   "cell_type": "code",
   "execution_count": 5,
   "metadata": {},
   "outputs": [],
   "source": [
    "date1 =datetime.datetime.now().strftime(\"%Y-%m-%d-%H-%M-%S\")"
   ]
  },
  {
   "cell_type": "code",
   "execution_count": 6,
   "metadata": {},
   "outputs": [
    {
     "data": {
      "text/plain": [
       "'2020-08-24-17-43-49'"
      ]
     },
     "execution_count": 6,
     "metadata": {},
     "output_type": "execute_result"
    }
   ],
   "source": []
  },
  {
   "cell_type": "code",
   "execution_count": 76,
   "metadata": {},
   "outputs": [],
   "source": [
    "dshutdown = datetime.datetime.strptime('2020-08-24-01-41-23', \"%Y-%m-%d-%H-%M-%S\")\n",
    "dnow = datetime.datetime.strptime('2020-08-24-06-41-23', \"%Y-%m-%d-%H-%M-%S\")\n",
    "dstart = datetime.datetime.strptime('2020-08-24-03-41-23', \"%Y-%m-%d-%H-%M-%S\")\n",
    "#d3 = datetime.datetime.strptime('2020-08-24-03-41-23', \"%Y-%m-%d-%H-%M-%S\")"
   ]
  },
  {
   "cell_type": "code",
   "execution_count": 77,
   "metadata": {},
   "outputs": [],
   "source": [
    "with open(\"saved_rack_count.txt\", \"w\") as f:\n",
    "    f.write(str(rack_count) +\"#\"+ dshutdown.strftime(\"%Y-%m-%d-%H-%M-%S\"))\n"
   ]
  },
  {
   "cell_type": "code",
   "execution_count": 78,
   "metadata": {},
   "outputs": [],
   "source": [
    "rack_count = 0\n",
    "palette_count = 0"
   ]
  },
  {
   "cell_type": "code",
   "execution_count": 79,
   "metadata": {},
   "outputs": [
    {
     "name": "stdout",
     "output_type": "stream",
     "text": [
      "[1, 41, 23]\n",
      "[6, 41, 23]\n",
      "Counts were Loaded\n"
     ]
    }
   ],
   "source": [
    "dshutdown = datetime.datetime.strptime(dr, \"%Y-%m-%d-%H-%M-%S\")\n",
    "\n",
    "dnow_day = dnow.strftime(\"%Y-%m-%d\")\n",
    "dnow_time = dnow.strftime(\"%H-%M-%S\")\n",
    "\n",
    "dshutdown_day = dshutdown.strftime(\"%Y-%m-%d\")\n",
    "dshutdown_time = dshutdown.strftime(\"%H-%M-%S\")\n",
    "\n",
    "\n",
    "\n",
    "dshutdown = datetime.datetime.strptime(dr, \"%Y-%m-%d-%H-%M-%S\")\n",
    "#dnow = datetime.datetime.now()\n",
    "\n",
    "hms_shutdown =[ int(i) for i in dshutdown_time.split(\"-\")]\n",
    "hms_now = [int(i) for i in dnow_time.split(\"-\")]\n",
    "print(hms_shutdown)\n",
    "print(hms_now)\n",
    "for i in range(1):\n",
    "    if(datetime.timedelta(days = 1)>(dnow-dshutdown)):\n",
    "        if (hms_shutdown[0]<7) and (hms_now[0]>=7):\n",
    "            ## If the hour at which the system shutdown is before 7am\n",
    "            ## and the system restarts at/after 7am\n",
    "            ## Reset Count\n",
    "            #print(\"Loading last saved count.\")\n",
    "            date1 = datetime.datetime.now().strftime(\"%Y-%m-%d-%H-%M-%S\")\n",
    "            rack_count = 0\n",
    "            pallette_count = 0\n",
    "            print(\"Counts were reset\")\n",
    "            with open(\"saved_rack_count.txt\", \"w\") as f:\n",
    "                f.write(str(rack_count) +\"#\"+ date1)\n",
    "\n",
    "            with open(\"saved_palette_count.txt\", \"w\") as f:\n",
    "                f.write(str(palette_count) +\"#\"+ date1)\n",
    "            break\n",
    "        else:\n",
    "            print(\"Counts were Loaded\")\n",
    "            rack_count = int(r)\n",
    "            palette_count = int(0)\n",
    "    else:\n",
    "        print(\"Shutdown has happened for more than a day reseting counts...\")\n",
    "            "
   ]
  },
  {
   "cell_type": "code",
   "execution_count": 81,
   "metadata": {},
   "outputs": [
    {
     "data": {
      "text/plain": [
       "10"
      ]
     },
     "execution_count": 81,
     "metadata": {},
     "output_type": "execute_result"
    }
   ],
   "source": [
    "rack_count"
   ]
  },
  {
   "cell_type": "code",
   "execution_count": 59,
   "metadata": {},
   "outputs": [
    {
     "data": {
      "text/plain": [
       "datetime.datetime(2020, 8, 24, 8, 41, 23)"
      ]
     },
     "execution_count": 59,
     "metadata": {},
     "output_type": "execute_result"
    }
   ],
   "source": [
    "dnow"
   ]
  },
  {
   "cell_type": "code",
   "execution_count": 39,
   "metadata": {},
   "outputs": [],
   "source": [
    "with open(\"saved_count.txt\", \"w\") as f:\n",
    "    f.write(str(10) +\"#\"+ date1)\n",
    "with open(\"saved_count.txt\", \"r\") as f:\n",
    "    s = f.read()"
   ]
  },
  {
   "cell_type": "code",
   "execution_count": 40,
   "metadata": {},
   "outputs": [],
   "source": []
  },
  {
   "cell_type": "code",
   "execution_count": null,
   "metadata": {},
   "outputs": [],
   "source": []
  }
 ],
 "metadata": {
  "kernelspec": {
   "display_name": "local-venv",
   "language": "python",
   "name": "local-venv"
  },
  "language_info": {
   "codemirror_mode": {
    "name": "ipython",
    "version": 3
   },
   "file_extension": ".py",
   "mimetype": "text/x-python",
   "name": "python",
   "nbconvert_exporter": "python",
   "pygments_lexer": "ipython3",
   "version": "3.8.2"
  }
 },
 "nbformat": 4,
 "nbformat_minor": 4
}
