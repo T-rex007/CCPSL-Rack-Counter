{
 "cells": [
  {
   "cell_type": "code",
   "execution_count": 1,
   "metadata": {},
   "outputs": [],
   "source": [
    "#!/usr/bin/env python\n",
    "import numpy as np\n",
    "import cv2 \n",
    "import argparse\n",
    "import time\n",
    "import datetime\n",
    "from helper import *\n",
    "from tensorflow.keras.models import model_from_json\n",
    "import firebase_admin\n",
    "import os\n",
    "import pandas as pd\n",
    "from firebase_admin import credentials\n",
    "from firebase_admin import firestore\n",
    "from firebase_admin import storage"
   ]
  },
  {
   "cell_type": "code",
   "execution_count": 2,
   "metadata": {},
   "outputs": [
    {
     "data": {
      "text/plain": [
       "['Auth',\n",
       " 'Untitled.ipynb',\n",
       " 'ccpsl_test_snapshots',\n",
       " '.git',\n",
       " 'Data',\n",
       " 'Rack_net_demo_notebook.ipynb',\n",
       " '.gitignore',\n",
       " 'testing_clips',\n",
       " 'helper.py',\n",
       " 'requirements.txt',\n",
       " 'Auth2',\n",
       " 'Rack_net_training_Notebook.ipynb',\n",
       " 'Count_backup',\n",
       " 'Striped images .ipynb',\n",
       " 'Data_backup',\n",
       " 'experimental_code',\n",
       " 'run_rack_counter.py',\n",
       " '__pycache__',\n",
       " 'logs',\n",
       " 'launcher.sh',\n",
       " 'Videos',\n",
       " 'Models',\n",
       " '.ipynb_checkpoints',\n",
       " 'striped',\n",
       " 'README.MD']"
      ]
     },
     "execution_count": 2,
     "metadata": {},
     "output_type": "execute_result"
    }
   ],
   "source": [
    "os.listdir()"
   ]
  },
  {
   "cell_type": "code",
   "execution_count": 3,
   "metadata": {},
   "outputs": [],
   "source": [
    "\n",
    "out_dict  = {\n",
    "    'Start Date and Time': [],\n",
    "    'End Date and Time':[],\n",
    "    'Total Rack Count':[],\n",
    "    'Total Palette Count':[]\n",
    "    }\n",
    "df = pd.DataFrame(out_dict)\n",
    "date1 = datetime.datetime.now().strftime(\"%y_%m_%d\")\n",
    "    #df.to_csv(\"logs/\"+date1+\"_hourly_count.csv\", index = False)\n"
   ]
  },
  {
   "cell_type": "code",
   "execution_count": 4,
   "metadata": {},
   "outputs": [
    {
     "data": {
      "text/html": [
       "<div>\n",
       "<style scoped>\n",
       "    .dataframe tbody tr th:only-of-type {\n",
       "        vertical-align: middle;\n",
       "    }\n",
       "\n",
       "    .dataframe tbody tr th {\n",
       "        vertical-align: top;\n",
       "    }\n",
       "\n",
       "    .dataframe thead th {\n",
       "        text-align: right;\n",
       "    }\n",
       "</style>\n",
       "<table border=\"1\" class=\"dataframe\">\n",
       "  <thead>\n",
       "    <tr style=\"text-align: right;\">\n",
       "      <th></th>\n",
       "      <th>Start Date and Time</th>\n",
       "      <th>End Date and Time</th>\n",
       "      <th>Total Rack Count</th>\n",
       "      <th>Total Palette Count</th>\n",
       "    </tr>\n",
       "  </thead>\n",
       "  <tbody>\n",
       "  </tbody>\n",
       "</table>\n",
       "</div>"
      ],
      "text/plain": [
       "Empty DataFrame\n",
       "Columns: [Start Date and Time, End Date and Time, Total Rack Count, Total Palette Count]\n",
       "Index: []"
      ]
     },
     "execution_count": 4,
     "metadata": {},
     "output_type": "execute_result"
    }
   ],
   "source": [
    "df"
   ]
  },
  {
   "cell_type": "code",
   "execution_count": 5,
   "metadata": {},
   "outputs": [],
   "source": [
    "from helper import *\n",
    "dailyLogInit()"
   ]
  },
  {
   "cell_type": "code",
   "execution_count": 6,
   "metadata": {},
   "outputs": [],
   "source": [
    "hourlyLogInit()"
   ]
  },
  {
   "cell_type": "code",
   "execution_count": null,
   "metadata": {},
   "outputs": [],
   "source": []
  },
  {
   "cell_type": "code",
   "execution_count": null,
   "metadata": {},
   "outputs": [],
   "source": []
  }
 ],
 "metadata": {
  "kernelspec": {
   "display_name": "local-venv",
   "language": "python",
   "name": "local-venv"
  },
  "language_info": {
   "codemirror_mode": {
    "name": "ipython",
    "version": 3
   },
   "file_extension": ".py",
   "mimetype": "text/x-python",
   "name": "python",
   "nbconvert_exporter": "python",
   "pygments_lexer": "ipython3",
   "version": "3.8.2"
  }
 },
 "nbformat": 4,
 "nbformat_minor": 4
}
