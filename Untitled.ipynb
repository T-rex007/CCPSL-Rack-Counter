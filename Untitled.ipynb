{
 "cells": [
  {
   "cell_type": "code",
   "execution_count": 1,
   "metadata": {},
   "outputs": [],
   "source": [
    "#!/usr/bin/env python\n",
    "import numpy as np\n",
    "import cv2 \n",
    "import argparse\n",
    "import time\n",
    "import datetime\n",
    "from helper import *\n",
    "from tensorflow.keras.models import model_from_json\n",
    "import firebase_admin\n",
    "import os\n",
    "from firebase_admin import credentials\n",
    "from firebase_admin import firestore\n",
    "from firebase_admin import storage"
   ]
  },
  {
   "cell_type": "code",
   "execution_count": 2,
   "metadata": {},
   "outputs": [],
   "source": [
    "### FireBase Authentication\n",
    "project_id = 'ccpsl-tt'\n",
    "bucket_path = 'ccpsl-tt.appspot.com'\n",
    "rel_cred_path = \"/Auth2/ccpsl-tt-a3f9d8857c5a.json\"\n",
    "credential_path = os.getcwd() + rel_cred_path\n",
    "os.environ['GOOGLE_APPLICATION_CREDENTIALS'] = credential_path"
   ]
  },
  {
   "cell_type": "markdown",
   "metadata": {},
   "source": [
    "\n",
    "\n",
    "\n",
    "### Initializing Firebase App\n",
    "try: \n",
    "    print(\"Authenticating and Reinitializing Firebase App\")\n",
    "    cred = credentials.ApplicationDefault()\n",
    "    firebase_admin.initialize_app(cred, {\n",
    "        #'storageBucket': 'ccpsl-1797d.appspot.com'\n",
    "        'storageBucket': bucket_path,\n",
    "        'projectId': project_id\n",
    "        })\n",
    "    db = firestore.client()\n",
    "except: \n",
    "    print(\"Error Connecting to Firebase\")\n",
    "    print(\"Check Internet Connection\")\n",
    "    try: \n",
    "        print(\"Authenticating and Reinitializing Firebase App\")\n",
    "        cred = credentials.ApplicationDefault()\n",
    "        firebase_admin.initialize_app(cred, {\n",
    "            'storageBucket': bucket_path\n",
    "            })\n",
    "        db = firestore.client()\n",
    "    except: \n",
    "        print(\"Problem Persists Moving on\")"
   ]
  },
  {
   "cell_type": "code",
   "execution_count": 3,
   "metadata": {},
   "outputs": [
    {
     "name": "stdout",
     "output_type": "stream",
     "text": [
      "Authenticating and Reinitializing Firebase App\n"
     ]
    }
   ],
   "source": [
    "print(\"Authenticating and Reinitializing Firebase App\")\n",
    "cred = credentials.ApplicationDefault()\n",
    "firebase_admin.initialize_app(cred, {\n",
    "    #'storageBucket': 'ccpsl-1797d.appspot.com'\n",
    "    'storageBucket': bucket_path,\n",
    "    'projectId': project_id\n",
    "    })\n",
    "db = firestore.client()"
   ]
  },
  {
   "cell_type": "code",
   "execution_count": null,
   "metadata": {},
   "outputs": [],
   "source": []
  },
  {
   "cell_type": "code",
   "execution_count": null,
   "metadata": {},
   "outputs": [],
   "source": []
  }
 ],
 "metadata": {
  "kernelspec": {
   "display_name": "local-venv",
   "language": "python",
   "name": "local-venv"
  },
  "language_info": {
   "codemirror_mode": {
    "name": "ipython",
    "version": 3
   },
   "file_extension": ".py",
   "mimetype": "text/x-python",
   "name": "python",
   "nbconvert_exporter": "python",
   "pygments_lexer": "ipython3",
   "version": "3.8.2"
  }
 },
 "nbformat": 4,
 "nbformat_minor": 4
}
