{
 "cells": [
  {
   "cell_type": "code",
   "execution_count": 1,
   "metadata": {},
   "outputs": [],
   "source": [
    "import numpy as np\n",
    "import os\n",
    "import cv2 \n",
    "from tensorflow.keras.models import model_from_json\n",
    "import time\n",
    "import threading\n"
   ]
  },
  {
   "cell_type": "code",
   "execution_count": 2,
   "metadata": {},
   "outputs": [
    {
     "name": "stdout",
     "output_type": "stream",
     "text": [
      "Loaded model from disk\n"
     ]
    }
   ],
   "source": [
    "json_file = open('Models/smally_rack_model.json', 'r')\n",
    "loaded_model_json = json_file.read()\n",
    "json_file.close()\n",
    "loaded_model = model_from_json(loaded_model_json)\n",
    "# load weights into new model\n",
    "loaded_model.load_weights(\"Models/smally_rack_model.h5\")\n",
    "print(\"Loaded model from disk\")"
   ]
  },
  {
   "cell_type": "code",
   "execution_count": 3,
   "metadata": {},
   "outputs": [
    {
     "data": {
      "text/plain": [
       "'4.2.0'"
      ]
     },
     "execution_count": 3,
     "metadata": {},
     "output_type": "execute_result"
    }
   ],
   "source": [
    "cv2.__version__"
   ]
  },
  {
   "cell_type": "code",
   "execution_count": 4,
   "metadata": {},
   "outputs": [],
   "source": [
    "r1 = (150, 368, 63, 41)\n",
    "#r2 = (40, 327, 61, 33)"
   ]
  },
  {
   "cell_type": "code",
   "execution_count": 6,
   "metadata": {},
   "outputs": [],
   "source": [
    "cap = cv2.VideoCapture('Videos/rack.mp4') \n",
    "isRegionSelected = 1\n",
    "count = 0\n",
    "p1_change = False\n",
    "font = cv2.FONT_HERSHEY_SIMPLEX \n",
    "while(True): \n",
    "      \n",
    "    # Capture frames in the video \n",
    "    ret, frame = cap.read() \n",
    "    frame1 = cv2.cvtColor(np.copy(frame), cv2.COLOR_BGR2RGB)\n",
    "    if (isRegionSelected == 0):\n",
    "        # Select ROI\n",
    "        r1 = cv2.selectROI(frame)\n",
    "        r2= cv2.selectROI(frame)\n",
    "        # Crop image\n",
    "        imCrop1 = frame[int(r1[1]):int(r1[1]+r1[3]), int(r1[0]):int(r1[0]+r1[2])]\n",
    "        imCrop2 = frame[int(r2[1]):int(r2[1]+r2[3]), int(r2[0]):int(r2[0]+r2[2])]\n",
    "        #############################################################################\n",
    "        \n",
    "        # Crop image\n",
    "        \n",
    "        isRegionSelected = 1\n",
    "\n",
    "  \n",
    "    imCrop1 = frame1[int(r1[1]):int(r1[1]+r1[3]), int(r1[0]):int(r1[0]+r1[2])]\n",
    "    frame = cv2.rectangle(frame,\n",
    "                          (int(r1[0]),int(r1[1])),\n",
    "                          (int(r1[0] +r1[2]),int(r1[1]+r1[3])),\n",
    "                          (255, 0, 0), 2\n",
    "                         )\n",
    "    img1 = np.copy(imCrop1)\n",
    "    img2 = np.copy(imCrop2)\n",
    "    img1 = np.expand_dims(cv2.resize(img1/255.0, (64,64)), axis = 0)\n",
    "    \n",
    "    p1 = loaded_model.predict(img1)\n",
    "\n",
    "    \n",
    "    ############################################################################\n",
    "    \n",
    "    \n",
    "    if (p1>0.85):# describe the type of font \n",
    "        # to be used. \n",
    "  \n",
    "        # Use putText() method for \n",
    "        # inserting text on video \n",
    "        cv2.putText(frame,  \n",
    "                    'No Rack detected at p1 {}'.format(p1),  \n",
    "                    (100, 100),  \n",
    "                    font, 0.5,  \n",
    "                    (0, 255, 255),  \n",
    "                    2,  \n",
    "                    cv2.LINE_4)\n",
    "        check_change = 0\n",
    "        if(p1_change == True):\n",
    "            count = count +1\n",
    "            p1_change = False\n",
    "         \n",
    "    elif( p1<0.2):\n",
    "\n",
    "        # Use putText() method for \n",
    "        # inserting text on video \n",
    "        cv2.putText(frame,  \n",
    "                    'Rack detected at p1 \\n.{}'. format(p1),  \n",
    "                    (100, 100),  \n",
    "                    font, 0.5,  \n",
    "                    (0, 255, 255),  \n",
    "                    2,  \n",
    "                    cv2.LINE_4)\n",
    "        p1_change = True\n",
    "\n",
    "        \n",
    "\n",
    "    \n",
    "    \n",
    "    font = cv2.FONT_HERSHEY_SIMPLEX \n",
    "\n",
    "    # Use putText() method for \n",
    "    # inserting text on video \n",
    "    cv2.putText(frame,  \n",
    "                'Racks counted {}'. format(count),  \n",
    "                (170, 170),  \n",
    "                font, 0.5,  \n",
    "                (0, 255, 255),  \n",
    "                2,  \n",
    "                cv2.LINE_4)\n",
    "    # Display the resulting frame \n",
    "    cv2.imshow('video', frame) \n",
    "  \n",
    "    # creating 'q' as the quit  \n",
    "    # button for the video \n",
    "    if cv2.waitKey(1) & 0xFF == ord('q'): \n",
    "        break\n",
    "  \n",
    "# release the cap object \n",
    "cap.release() \n",
    "# close all windows \n",
    "cv2.destroyAllWindows() "
   ]
  },
  {
   "cell_type": "code",
   "execution_count": 8,
   "metadata": {},
   "outputs": [],
   "source": [
    "cv2.destroyAllWindows()"
   ]
  },
  {
   "cell_type": "code",
   "execution_count": null,
   "metadata": {},
   "outputs": [],
   "source": []
  }
 ],
 "metadata": {
  "kernelspec": {
   "display_name": "local-venv",
   "language": "python",
   "name": "local-venv"
  },
  "language_info": {
   "codemirror_mode": {
    "name": "ipython",
    "version": 3
   },
   "file_extension": ".py",
   "mimetype": "text/x-python",
   "name": "python",
   "nbconvert_exporter": "python",
   "pygments_lexer": "ipython3",
   "version": "3.8.2"
  }
 },
 "nbformat": 4,
 "nbformat_minor": 4
}
