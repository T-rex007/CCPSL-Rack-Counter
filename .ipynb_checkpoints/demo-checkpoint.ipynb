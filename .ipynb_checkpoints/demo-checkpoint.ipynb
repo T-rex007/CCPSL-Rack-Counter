{
 "cells": [
  {
   "cell_type": "code",
   "execution_count": 5,
   "metadata": {},
   "outputs": [],
   "source": [
    "import numpy as np\n",
    "import os\n",
    "import cv2 \n",
    "from tensorflow.keras.models import model_from_json\n",
    "import time\n",
    "import threading\n"
   ]
  },
  {
   "cell_type": "code",
   "execution_count": 6,
   "metadata": {},
   "outputs": [
    {
     "name": "stdout",
     "output_type": "stream",
     "text": [
      "Loaded model from disk\n"
     ]
    }
   ],
   "source": [
    "json_file = open('Models/rack_model.json', 'r')\n",
    "loaded_model_json = json_file.read()\n",
    "json_file.close()\n",
    "loaded_model = model_from_json(loaded_model_json)\n",
    "# load weights into new model\n",
    "loaded_model.load_weights(\"Models/rack_model.h5\")\n",
    "print(\"Loaded model from disk\")"
   ]
  },
  {
   "cell_type": "code",
   "execution_count": 7,
   "metadata": {},
   "outputs": [
    {
     "data": {
      "text/plain": [
       "'4.2.0'"
      ]
     },
     "execution_count": 7,
     "metadata": {},
     "output_type": "execute_result"
    }
   ],
   "source": [
    "cv2.__version__"
   ]
  },
  {
   "cell_type": "code",
   "execution_count": null,
   "metadata": {},
   "outputs": [],
   "source": [
    "cap = cv2.VideoCapture('Videos/rack.mp4') \n",
    "isRegionSelected = 0\n",
    "count = 0\n",
    "p1_change = False\n",
    "p2_change = False\n",
    "while(True): \n",
    "      \n",
    "    # Capture frames in the video \n",
    "    ret, frame = cap.read() \n",
    "    \n",
    "    if (isRegionSelected == 0):\n",
    "        # Select ROI\n",
    "        r1 = cv2.selectROI(frame)\n",
    "        r2= cv2.selectROI(frame)\n",
    "        # Crop image\n",
    "        imCrop1 = frame[int(r1[1]):int(r1[1]+r1[3]), int(r1[0]):int(r1[0]+r1[2])]\n",
    "        imCrop2 = frame[int(r2[1]):int(r2[1]+r2[3]), int(r2[0]):int(r2[0]+r2[2])]\n",
    "        #############################################################################\n",
    "        \n",
    "        # Crop image\n",
    "        \n",
    "        isRegionSelected = 1\n",
    "\n",
    "  \n",
    "    imCrop1 = frame[int(r1[1]):int(r1[1]+r1[3]), int(r1[0]):int(r1[0]+r1[2])]\n",
    "    imCrop2 = frame[int(r2[1]):int(r2[1]+r2[3]), int(r2[0]):int(r2[0]+r2[2])]\n",
    "    #rame = cv2.rectangle(frame,\n",
    "    #                      (int(r1[1]),int(r1[1]+r1[3])),\n",
    "    #                      (int(r1[0]),int(r1[0]+r1[2])),\n",
    "    #                      (255, 0, 0), 2\n",
    "    #                     )\n",
    "                          \n",
    "    frame = cv2.rectangle(frame,\n",
    "                          (int(r2[0]),int(r2[1])), \n",
    "                          (int(r2[1]-r2[3]),int(r2[3])),\n",
    "                          (255, 0, 0), 2\n",
    "                          )\n",
    "    img1 = np.copy(imCrop1)\n",
    "    img2 = np.copy(imCrop2)\n",
    "    #img = img/255.0\n",
    "    img1 = np.expand_dims(cv2.resize(img1, (64,64)), axis = 0)\n",
    "    img2 = np.expand_dims(cv2.resize(img2, (64,64)), axis = 0)\n",
    "    \n",
    "    #print(img.shape)\n",
    "    p1 = loaded_model.predict(img1)\n",
    "    p2 = loaded_model.predict(img2)\n",
    "    #print(pred)\n",
    "    #p = pred\n",
    "    #print()\n",
    "    change_check = 0\n",
    "    \n",
    "    \n",
    "    \n",
    "    ############################################################################\n",
    "    \n",
    "    \n",
    "    if (p1>0.85):# describe the type of font \n",
    "        # to be used. \n",
    "        font = cv2.FONT_HERSHEY_SIMPLEX \n",
    "  \n",
    "        # Use putText() method for \n",
    "        # inserting text on video \n",
    "        cv2.putText(frame,  \n",
    "                    'No Rack detected at p1 {}'.format(p1),  \n",
    "                    (100, 100),  \n",
    "                    font, 0.5,  \n",
    "                    (0, 255, 255),  \n",
    "                    2,  \n",
    "                    cv2.LINE_4)\n",
    "        check_change = 0\n",
    "         \n",
    "    elif( p1<0.2):\n",
    "                # to be used. \n",
    "        font = cv2.FONT_HERSHEY_SIMPLEX \n",
    "  \n",
    "        # Use putText() method for \n",
    "        # inserting text on video \n",
    "        cv2.putText(frame,  \n",
    "                    'Rack detected at p1 \\n.{}'. format(p1),  \n",
    "                    (100, 100),  \n",
    "                    font, 0.5,  \n",
    "                    (0, 255, 255),  \n",
    "                    2,  \n",
    "                    cv2.LINE_4)\n",
    "        p1_change = True\n",
    "    else:\n",
    "            cv2.putText(frame,  \n",
    "                    'Rack detected at p2\\n.{}'. format(p2),  \n",
    "                    (100, 100),  \n",
    "                    font, 0.5,  \n",
    "                    (0, 255, 255),  \n",
    "                    2,  \n",
    "                    cv2.LINE_4)\n",
    "        \n",
    "    #################################################################################    \n",
    "    \n",
    "    if (p2>0.85):# describe the type of font \n",
    "        # to be used. \n",
    "        font = cv2.FONT_HERSHEY_SIMPLEX \n",
    "  \n",
    "        # Use putText() method for \n",
    "        # inserting text on video \n",
    "        cv2.putText(frame,  \n",
    "                    'No Rack detected at p2 {}'.format(p2),  \n",
    "                    (50, 50),  \n",
    "                    font, 0.5,  \n",
    "                    (0, 255, 255),  \n",
    "                    2,  \n",
    "                    cv2.LINE_4)\n",
    "        check_change = 0\n",
    "         \n",
    "    elif( p2<0.2):\n",
    "        # to be used. \n",
    "        font = cv2.FONT_HERSHEY_SIMPLEX \n",
    "        p2_change =True\n",
    "        # Use putText() method for \n",
    "        # inserting text on video \n",
    "        cv2.putText(frame,  \n",
    "                    'Rack detected at p2\\n.{}'. format(p2),  \n",
    "                    (50, 50),  \n",
    "                    font, 0.5,  \n",
    "                    (0, 255, 255),  \n",
    "                    2,  \n",
    "                    cv2.LINE_4)\n",
    "    else:\n",
    "        cv2.putText(frame,  \n",
    "                'Rack detected at p2\\n.{}'. format(p2),  \n",
    "                (50, 50),  \n",
    "                font, 0.5,  \n",
    "                (0, 255, 255),  \n",
    "                2,  \n",
    "                cv2.LINE_4)\n",
    "\n",
    "    #####################################################################################\n",
    "    \n",
    "    if((p1_change == True) and (p2_change == True)):\n",
    "        p1_change = False\n",
    "        p2_change = False\n",
    "        count = count +1 \n",
    "        \n",
    "    \n",
    "    \n",
    "    font = cv2.FONT_HERSHEY_SIMPLEX \n",
    "\n",
    "    # Use putText() method for \n",
    "    # inserting text on video \n",
    "    cv2.putText(frame,  \n",
    "                'Racks counted {}'. format(count),  \n",
    "                (170, 170),  \n",
    "                font, 0.5,  \n",
    "                (0, 255, 255),  \n",
    "                2,  \n",
    "                cv2.LINE_4)\n",
    "    # Display the resulting frame \n",
    "    cv2.imshow('video', frame) \n",
    "  \n",
    "    # creating 'q' as the quit  \n",
    "    # button for the video \n",
    "    if cv2.waitKey(1) & 0xFF == ord('q'): \n",
    "        break\n",
    "  \n",
    "# release the cap object \n",
    "cap.release() \n",
    "# close all windows \n",
    "cv2.destroyAllWindows() "
   ]
  },
  {
   "cell_type": "code",
   "execution_count": 14,
   "metadata": {},
   "outputs": [],
   "source": [
    "cv2.destroyAllWindows()"
   ]
  },
  {
   "cell_type": "code",
   "execution_count": 18,
   "metadata": {},
   "outputs": [
    {
     "data": {
      "text/plain": [
       "array([], shape=(0, 0, 3), dtype=uint8)"
      ]
     },
     "execution_count": 18,
     "metadata": {},
     "output_type": "execute_result"
    }
   ],
   "source": [
    "img1"
   ]
  },
  {
   "cell_type": "code",
   "execution_count": 12,
   "metadata": {},
   "outputs": [
    {
     "data": {
      "text/plain": [
       "(145, 389, 53, 32)"
      ]
     },
     "execution_count": 12,
     "metadata": {},
     "output_type": "execute_result"
    }
   ],
   "source": [
    "r1"
   ]
  },
  {
   "cell_type": "code",
   "execution_count": 19,
   "metadata": {},
   "outputs": [
    {
     "data": {
      "text/plain": [
       "(720, 1280, 3)"
      ]
     },
     "execution_count": 19,
     "metadata": {},
     "output_type": "execute_result"
    }
   ],
   "source": [
    "frame.shape"
   ]
  },
  {
   "cell_type": "code",
   "execution_count": null,
   "metadata": {},
   "outputs": [],
   "source": []
  }
 ],
 "metadata": {
  "kernelspec": {
   "display_name": "local-venv",
   "language": "python",
   "name": "local-venv"
  },
  "language_info": {
   "codemirror_mode": {
    "name": "ipython",
    "version": 3
   },
   "file_extension": ".py",
   "mimetype": "text/x-python",
   "name": "python",
   "nbconvert_exporter": "python",
   "pygments_lexer": "ipython3",
   "version": "3.8.2"
  }
 },
 "nbformat": 4,
 "nbformat_minor": 4
}
